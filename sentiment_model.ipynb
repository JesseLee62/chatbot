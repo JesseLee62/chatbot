{
 "cells": [
  {
   "cell_type": "code",
   "execution_count": 1,
   "metadata": {},
   "outputs": [
    {
     "name": "stdout",
     "output_type": "stream",
     "text": [
      "rows and columns: (21459, 2)\n",
      "                                                Text  Emotion\n",
      "0                            i didnt feel humiliated  sadness\n",
      "1  i can go from feeling so hopeless to so damned...  sadness\n",
      "2   im grabbing a minute to post i feel greedy wrong    other\n",
      "3  i am ever feeling nostalgic about the fireplac...    other\n",
      "4                               i am feeling grouchy    other\n",
      "Emotion\n",
      "other      8165\n",
      "happy      7029\n",
      "sadness    6265\n",
      "Name: count, dtype: int64\n"
     ]
    }
   ],
   "source": [
    "import pandas as pd\n",
    "\n",
    "df = pd.read_csv(\"Emotions in text.csv\") \n",
    "\n",
    "def convert_emotion(label):\n",
    "    if label in ['happy']:\n",
    "        return 'happy'\n",
    "    elif label in ['sadness']:\n",
    "        return 'sadness'\n",
    "    else:\n",
    "        return 'other'\n",
    "\n",
    "df['Emotion'] = df['Emotion'].apply(convert_emotion)\n",
    "\n",
    "# Check the dataset\n",
    "print('rows and columns:', df.shape)\n",
    "print(df.head())\n",
    "print(df['Emotion'].value_counts())"
   ]
  },
  {
   "cell_type": "code",
   "execution_count": 2,
   "metadata": {},
   "outputs": [
    {
     "data": {
      "image/png": "[encoded data removed]",
      "text/plain": [
       "<Figure size 600x400 with 1 Axes>"
      ]
     },
     "metadata": {},
     "output_type": "display_data"
    },
    {
     "name": "stdout",
     "output_type": "stream",
     "text": [
      "Dataset Description:\n",
      "This dataset consists of two columns, Text and Emotions. Emotions column has various categories.\n",
      "Each entry in the dataset represents a text message, along with an associated Emotion label.\n",
      "Emotion categories include 'happy', 'sadness', 'anger', 'fear', 'love', 'surprise'.\n",
      "happy : 33%\n",
      "sadness : 29%\n",
      "other('anger', 'fear', 'love', 'surprise') : 38%\n"
     ]
    }
   ],
   "source": [
    "import matplotlib.pyplot as plt\n",
    "\n",
    "# Count the occurrences of each unique value in the 'Emotion' column\n",
    "emotion_counts = df['Emotion'].value_counts()\n",
    "\n",
    "# Create a bar plot\n",
    "plt.figure(figsize=(6, 4))  # optional: Adjust the figure size as needed\n",
    "plt.bar(emotion_counts.index, emotion_counts.values)\n",
    "\n",
    "# Adding labels and title\n",
    "plt.xlabel('Emotion')\n",
    "plt.ylabel('Count')\n",
    "plt.title('Distribution of Emotions')\n",
    "\n",
    "# Display the plot\n",
    "plt.show()\n",
    "\n",
    "# Dataset Description\n",
    "print(\"Dataset Description:\")\n",
    "print(\"This dataset consists of two columns, Text and Emotions. Emotions column has various categories.\")\n",
    "print(\"Each entry in the dataset represents a text message, along with an associated Emotion label.\")\n",
    "print(\"Emotion categories include 'happy', 'sadness', 'anger', 'fear', 'love', 'surprise'.\")\n",
    "print(\"happy : 33%\")\n",
    "print(\"sadness : 29%\")\n",
    "print(\"other('anger', 'fear', 'love', 'surprise') : 38%\")\n"
   ]
  },
  {
   "cell_type": "code",
   "execution_count": 3,
   "metadata": {},
   "outputs": [
    {
     "name": "stdout",
     "output_type": "stream",
     "text": [
      "train data size:  (17171, 2)\n",
      "test data size:  (4288, 2)\n"
     ]
    }
   ],
   "source": [
    "import numpy as np\n",
    "np.random.seed(1234)\n",
    "\n",
    "# split df into train and test\n",
    "i = np.random.rand(len(df)) < 0.8\n",
    "train = df[i]\n",
    "test = df[~i]\n",
    "print(\"train data size: \", train.shape)\n",
    "print(\"test data size: \", test.shape)"
   ]
  },
  {
   "cell_type": "code",
   "execution_count": 15,
   "metadata": {},
   "outputs": [
    {
     "name": "stdout",
     "output_type": "stream",
     "text": [
      "classes: ['happy', 'other', 'sadness']\n",
      "train shapes: (17171, 25000) (17171,)\n",
      "test shapes: (4288, 25000) (4288,)\n",
      "test first ten labels: [1 0 1 1 1 0 1 0 0 2]\n"
     ]
    }
   ],
   "source": [
    "from tensorflow.keras.preprocessing.text import Tokenizer\n",
    "from sklearn.preprocessing import LabelEncoder\n",
    "\n",
    "# set up X and Y\n",
    "num_labels = 3      # Total number of emotion categories\n",
    "vocab_size = 25000  # Size of the vocabulary to consider\n",
    "batch_size = 100    # Number of samples per gradient update\n",
    "\n",
    "# fit the tokenizer on the training data\n",
    "tokenizer = Tokenizer(num_words=vocab_size)\n",
    "tokenizer.fit_on_texts(train.Text)\n",
    "\n",
    "# convert texts to TF-IDF vectors (Text)\n",
    "x_train = tokenizer.texts_to_matrix(train.Text, mode='tfidf')\n",
    "x_test = tokenizer.texts_to_matrix(test.Text, mode='tfidf')\n",
    "\n",
    "# fit the label encoder and transform emotion labels to integer labels (Emotion)\n",
    "encoder = LabelEncoder()\n",
    "encoder.fit(train.Emotion)\n",
    "y_train = encoder.transform(train.Emotion)\n",
    "y_test = encoder.transform(test.Emotion)\n",
    "\n",
    "print(\"classes:\", list(encoder.classes_))   \n",
    "\n",
    "# check shape\n",
    "print(\"train shapes:\", x_train.shape, y_train.shape)\n",
    "print(\"test shapes:\", x_test.shape, y_test.shape)\n",
    "print(\"test first ten labels:\", y_test[:10])"
   ]
  },
  {
   "cell_type": "code",
   "execution_count": 16,
   "metadata": {},
   "outputs": [],
   "source": [
    "from tensorflow.keras.preprocessing.sequence import pad_sequences\n",
    "\n",
    "# Convert texts to sequences of integers\n",
    "x_train_seq = tokenizer.texts_to_sequences(train.Text)\n",
    "x_test_seq = tokenizer.texts_to_sequences(test.Text)\n",
    "\n",
    "# Determine max sequence length for padding\n",
    "max_seq_length = max([len(seq) for seq in x_train_seq])\n",
    "\n",
    "# Pad sequences to ensure uniform length\n",
    "x_train_pad = pad_sequences(x_train_seq, maxlen=max_seq_length, padding='post')\n",
    "x_test_pad = pad_sequences(x_test_seq, maxlen=max_seq_length, padding='post')"
   ]
  },
  {
   "cell_type": "code",
   "execution_count": 17,
   "metadata": {},
   "outputs": [],
   "source": [
    "from tensorflow.keras import layers, models\n",
    "\n",
    "max_features = 10000\n",
    "batch_size = 32\n",
    "\n",
    "model = models.Sequential()\n",
    "model.add(layers.Embedding(max_features, 500)) \n",
    "model.add(layers.Conv1D(32, 7, activation='relu')) \n",
    "model.add(layers.MaxPooling1D(5)) \n",
    "model.add(layers.Conv1D(32, 7, activation='relu')) \n",
    "model.add(layers.GlobalMaxPooling1D())\n",
    "model.add(layers.Dense(num_labels, activation='softmax'))"
   ]
  },
  {
   "cell_type": "code",
   "execution_count": 18,
   "metadata": {},
   "outputs": [],
   "source": [
    "import tensorflow as tf\n",
    "\n",
    "model.compile(optimizer=tf.keras.optimizers.RMSprop(learning_rate=1e-4),  # set learning rate\n",
    "              loss='categorical_crossentropy',\n",
    "              metrics=['accuracy'])"
   ]
  },
  {
   "cell_type": "code",
   "execution_count": 19,
   "metadata": {},
   "outputs": [
    {
     "name": "stdout",
     "output_type": "stream",
     "text": [
      "Epoch 1/30\n",
      "\u001b[1m108/108\u001b[0m \u001b[32m━━━━━━━━━━━━━━━━━━━━\u001b[0m\u001b[37m\u001b[0m \u001b[1m8s\u001b[0m 64ms/step - accuracy: 0.3659 - loss: 1.0946 - val_accuracy: 0.4049 - val_loss: 1.0928\n",
      "Epoch 2/30\n",
      "\u001b[1m108/108\u001b[0m \u001b[32m━━━━━━━━━━━━━━━━━━━━\u001b[0m\u001b[37m\u001b[0m \u001b[1m7s\u001b[0m 60ms/step - accuracy: 0.3763 - loss: 1.0880 - val_accuracy: 0.4049 - val_loss: 1.0915\n",
      "Epoch 3/30\n",
      "\u001b[1m108/108\u001b[0m \u001b[32m━━━━━━━━━━━━━━━━━━━━\u001b[0m\u001b[37m\u001b[0m \u001b[1m7s\u001b[0m 62ms/step - accuracy: 0.3739 - loss: 1.0871 - val_accuracy: 0.4047 - val_loss: 1.0910\n",
      "Epoch 4/30\n",
      "\u001b[1m108/108\u001b[0m \u001b[32m━━━━━━━━━━━━━━━━━━━━\u001b[0m\u001b[37m\u001b[0m \u001b[1m7s\u001b[0m 62ms/step - accuracy: 0.3815 - loss: 1.0850 - val_accuracy: 0.4084 - val_loss: 1.0900\n",
      "Epoch 5/30\n",
      "\u001b[1m108/108\u001b[0m \u001b[32m━━━━━━━━━━━━━━━━━━━━\u001b[0m\u001b[37m\u001b[0m \u001b[1m7s\u001b[0m 62ms/step - accuracy: 0.4135 - loss: 1.0778 - val_accuracy: 0.4166 - val_loss: 1.0876\n",
      "Epoch 6/30\n",
      "\u001b[1m108/108\u001b[0m \u001b[32m━━━━━━━━━━━━━━━━━━━━\u001b[0m\u001b[37m\u001b[0m \u001b[1m7s\u001b[0m 63ms/step - accuracy: 0.4352 - loss: 1.0698 - val_accuracy: 0.4323 - val_loss: 1.0842\n",
      "Epoch 7/30\n",
      "\u001b[1m108/108\u001b[0m \u001b[32m━━━━━━━━━━━━━━━━━━━━\u001b[0m\u001b[37m\u001b[0m \u001b[1m7s\u001b[0m 61ms/step - accuracy: 0.4836 - loss: 1.0588 - val_accuracy: 0.4512 - val_loss: 1.0784\n",
      "Epoch 8/30\n",
      "\u001b[1m108/108\u001b[0m \u001b[32m━━━━━━━━━━━━━━━━━━━━\u001b[0m\u001b[37m\u001b[0m \u001b[1m7s\u001b[0m 64ms/step - accuracy: 0.5357 - loss: 1.0393 - val_accuracy: 0.4710 - val_loss: 1.0658\n",
      "Epoch 9/30\n",
      "\u001b[1m108/108\u001b[0m \u001b[32m━━━━━━━━━━━━━━━━━━━━\u001b[0m\u001b[37m\u001b[0m \u001b[1m7s\u001b[0m 68ms/step - accuracy: 0.5890 - loss: 1.0102 - val_accuracy: 0.4993 - val_loss: 1.0392\n",
      "Epoch 10/30\n",
      "\u001b[1m108/108\u001b[0m \u001b[32m━━━━━━━━━━━━━━━━━━━━\u001b[0m\u001b[37m\u001b[0m \u001b[1m7s\u001b[0m 61ms/step - accuracy: 0.6263 - loss: 0.9573 - val_accuracy: 0.5394 - val_loss: 0.9899\n",
      "Epoch 11/30\n",
      "\u001b[1m108/108\u001b[0m \u001b[32m━━━━━━━━━━━━━━━━━━━━\u001b[0m\u001b[37m\u001b[0m \u001b[1m7s\u001b[0m 62ms/step - accuracy: 0.6850 - loss: 0.8752 - val_accuracy: 0.5991 - val_loss: 0.9224\n",
      "Epoch 12/30\n",
      "\u001b[1m108/108\u001b[0m \u001b[32m━━━━━━━━━━━━━━━━━━━━\u001b[0m\u001b[37m\u001b[0m \u001b[1m6s\u001b[0m 60ms/step - accuracy: 0.7663 - loss: 0.7516 - val_accuracy: 0.6591 - val_loss: 0.8266\n",
      "Epoch 13/30\n",
      "\u001b[1m108/108\u001b[0m \u001b[32m━━━━━━━━━━━━━━━━━━━━\u001b[0m\u001b[37m\u001b[0m \u001b[1m7s\u001b[0m 62ms/step - accuracy: 0.8458 - loss: 0.6191 - val_accuracy: 0.7100 - val_loss: 0.7327\n",
      "Epoch 14/30\n",
      "\u001b[1m108/108\u001b[0m \u001b[32m━━━━━━━━━━━━━━━━━━━━\u001b[0m\u001b[37m\u001b[0m \u001b[1m6s\u001b[0m 60ms/step - accuracy: 0.8987 - loss: 0.4775 - val_accuracy: 0.7287 - val_loss: 0.6764\n",
      "Epoch 15/30\n",
      "\u001b[1m108/108\u001b[0m \u001b[32m━━━━━━━━━━━━━━━━━━━━\u001b[0m\u001b[37m\u001b[0m \u001b[1m7s\u001b[0m 61ms/step - accuracy: 0.9181 - loss: 0.3714 - val_accuracy: 0.7447 - val_loss: 0.6341\n",
      "Epoch 16/30\n",
      "\u001b[1m108/108\u001b[0m \u001b[32m━━━━━━━━━━━━━━━━━━━━\u001b[0m\u001b[37m\u001b[0m \u001b[1m7s\u001b[0m 63ms/step - accuracy: 0.9385 - loss: 0.2819 - val_accuracy: 0.7636 - val_loss: 0.5647\n",
      "Epoch 17/30\n",
      "\u001b[1m108/108\u001b[0m \u001b[32m━━━━━━━━━━━━━━━━━━━━\u001b[0m\u001b[37m\u001b[0m \u001b[1m7s\u001b[0m 67ms/step - accuracy: 0.9518 - loss: 0.2155 - val_accuracy: 0.7802 - val_loss: 0.5263\n",
      "Epoch 18/30\n",
      "\u001b[1m108/108\u001b[0m \u001b[32m━━━━━━━━━━━━━━━━━━━━\u001b[0m\u001b[37m\u001b[0m \u001b[1m7s\u001b[0m 60ms/step - accuracy: 0.9582 - loss: 0.1748 - val_accuracy: 0.7808 - val_loss: 0.5200\n",
      "Epoch 19/30\n",
      "\u001b[1m108/108\u001b[0m \u001b[32m━━━━━━━━━━━━━━━━━━━━\u001b[0m\u001b[37m\u001b[0m \u001b[1m6s\u001b[0m 60ms/step - accuracy: 0.9672 - loss: 0.1340 - val_accuracy: 0.7898 - val_loss: 0.4851\n",
      "Epoch 20/30\n",
      "\u001b[1m108/108\u001b[0m \u001b[32m━━━━━━━━━━━━━━━━━━━━\u001b[0m\u001b[37m\u001b[0m \u001b[1m6s\u001b[0m 60ms/step - accuracy: 0.9760 - loss: 0.1055 - val_accuracy: 0.7936 - val_loss: 0.4770\n",
      "Epoch 21/30\n",
      "\u001b[1m108/108\u001b[0m \u001b[32m━━━━━━━━━━━━━━━━━━━━\u001b[0m\u001b[37m\u001b[0m \u001b[1m6s\u001b[0m 59ms/step - accuracy: 0.9780 - loss: 0.0912 - val_accuracy: 0.7948 - val_loss: 0.4672\n",
      "Epoch 22/30\n",
      "\u001b[1m108/108\u001b[0m \u001b[32m━━━━━━━━━━━━━━━━━━━━\u001b[0m\u001b[37m\u001b[0m \u001b[1m6s\u001b[0m 59ms/step - accuracy: 0.9800 - loss: 0.0793 - val_accuracy: 0.7977 - val_loss: 0.4684\n",
      "Epoch 23/30\n",
      "\u001b[1m108/108\u001b[0m \u001b[32m━━━━━━━━━━━━━━━━━━━━\u001b[0m\u001b[37m\u001b[0m \u001b[1m6s\u001b[0m 59ms/step - accuracy: 0.9869 - loss: 0.0656 - val_accuracy: 0.7980 - val_loss: 0.4739\n",
      "Epoch 24/30\n",
      "\u001b[1m108/108\u001b[0m \u001b[32m━━━━━━━━━━━━━━━━━━━━\u001b[0m\u001b[37m\u001b[0m \u001b[1m7s\u001b[0m 61ms/step - accuracy: 0.9862 - loss: 0.0580 - val_accuracy: 0.8023 - val_loss: 0.4708\n",
      "Epoch 25/30\n",
      "\u001b[1m108/108\u001b[0m \u001b[32m━━━━━━━━━━━━━━━━━━━━\u001b[0m\u001b[37m\u001b[0m \u001b[1m7s\u001b[0m 60ms/step - accuracy: 0.9881 - loss: 0.0516 - val_accuracy: 0.8041 - val_loss: 0.4718\n",
      "Epoch 26/30\n",
      "\u001b[1m108/108\u001b[0m \u001b[32m━━━━━━━━━━━━━━━━━━━━\u001b[0m\u001b[37m\u001b[0m \u001b[1m6s\u001b[0m 58ms/step - accuracy: 0.9916 - loss: 0.0426 - val_accuracy: 0.8012 - val_loss: 0.4849\n",
      "Epoch 27/30\n",
      "\u001b[1m108/108\u001b[0m \u001b[32m━━━━━━━━━━━━━━━━━━━━\u001b[0m\u001b[37m\u001b[0m \u001b[1m6s\u001b[0m 59ms/step - accuracy: 0.9905 - loss: 0.0403 - val_accuracy: 0.8093 - val_loss: 0.4806\n",
      "Epoch 28/30\n",
      "\u001b[1m108/108\u001b[0m \u001b[32m━━━━━━━━━━━━━━━━━━━━\u001b[0m\u001b[37m\u001b[0m \u001b[1m7s\u001b[0m 62ms/step - accuracy: 0.9927 - loss: 0.0333 - val_accuracy: 0.8067 - val_loss: 0.4859\n",
      "Epoch 29/30\n",
      "\u001b[1m108/108\u001b[0m \u001b[32m━━━━━━━━━━━━━━━━━━━━\u001b[0m\u001b[37m\u001b[0m \u001b[1m8s\u001b[0m 69ms/step - accuracy: 0.9927 - loss: 0.0320 - val_accuracy: 0.8049 - val_loss: 0.4921\n",
      "Epoch 30/30\n",
      "\u001b[1m108/108\u001b[0m \u001b[32m━━━━━━━━━━━━━━━━━━━━\u001b[0m\u001b[37m\u001b[0m \u001b[1m7s\u001b[0m 61ms/step - accuracy: 0.9944 - loss: 0.0275 - val_accuracy: 0.8119 - val_loss: 0.4892\n"
     ]
    }
   ],
   "source": [
    "from tensorflow.keras.utils import to_categorical\n",
    "\n",
    "# convert labels to one-hot encoding format\n",
    "y_train_cat = to_categorical(y_train, num_classes=num_labels)\n",
    "y_test_cat = to_categorical(y_test, num_classes=num_labels)\n",
    "\n",
    "# Train the model using the training data with one-hot encoded labels\n",
    "history = model.fit(x_train_pad, y_train_cat,\n",
    "                    epochs=30,\n",
    "                    batch_size=128,\n",
    "                    verbose=1,           \n",
    "                    validation_split=0.2)"
   ]
  },
  {
   "cell_type": "code",
   "execution_count": 20,
   "metadata": {},
   "outputs": [
    {
     "name": "stdout",
     "output_type": "stream",
     "text": [
      "\u001b[1m134/134\u001b[0m \u001b[32m━━━━━━━━━━━━━━━━━━━━\u001b[0m\u001b[37m\u001b[0m \u001b[1m1s\u001b[0m 6ms/step - accuracy: 0.9432 - loss: 0.1602\n",
      "Accuracy:  0.9113805890083313\n"
     ]
    }
   ],
   "source": [
    "# Evaluate\n",
    "score = model.evaluate(x_test_pad, y_test_cat, batch_size=batch_size, verbose=1)\n",
    "print('Accuracy: ', score[1])"
   ]
  },
  {
   "cell_type": "code",
   "execution_count": 21,
   "metadata": {},
   "outputs": [
    {
     "name": "stdout",
     "output_type": "stream",
     "text": [
      "\u001b[1m134/134\u001b[0m \u001b[32m━━━━━━━━━━━━━━━━━━━━\u001b[0m\u001b[37m\u001b[0m \u001b[1m1s\u001b[0m 6ms/step\n"
     ]
    }
   ],
   "source": [
    "# get predictions so we can calculate more metrics\n",
    "pred = model.predict(x_test_pad)\n",
    "\n",
    "# Obtain the index of the highest probability category for each sample, which represents the predicted label\n",
    "pred_labels = np.argmax(pred, axis=1)"
   ]
  },
  {
   "cell_type": "code",
   "execution_count": 22,
   "metadata": {},
   "outputs": [
    {
     "name": "stdout",
     "output_type": "stream",
     "text": [
      "accuracy score:  0.9113805970149254\n",
      "precision score:  0.9114450392948313\n",
      "recall score:  0.9113805970149254\n",
      "f1 score:  0.9113769270953002\n"
     ]
    }
   ],
   "source": [
    "from sklearn.metrics import accuracy_score, precision_score, recall_score, f1_score\n",
    "\n",
    "print('accuracy score: ', accuracy_score(y_test, pred_labels))\n",
    "print('precision score: ', precision_score(y_test, pred_labels, average='weighted'))\n",
    "print('recall score: ', recall_score(y_test, pred_labels, average='weighted'))\n",
    "print('f1 score: ', f1_score(y_test, pred_labels, average='weighted'))"
   ]
  },
  {
   "cell_type": "code",
   "execution_count": 23,
   "metadata": {},
   "outputs": [],
   "source": [
    "model.save('sentiment.keras')  # save the model"
   ]
  }
 ],
 "metadata": {
  "kernelspec": {
   "display_name": "Python 3",
   "language": "python",
   "name": "python3"
  },
  "language_info": {
   "codemirror_mode": {
    "name": "ipython",
    "version": 3
   },
   "file_extension": ".py",
   "mimetype": "text/x-python",
   "name": "python",
   "nbconvert_exporter": "python",
   "pygments_lexer": "ipython3",
   "version": "3.11.2"
  },
  "orig_nbformat": 4
 },
 "nbformat": 4,
 "nbformat_minor": 2
}
